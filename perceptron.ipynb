{
 "cells": [
  {
   "cell_type": "markdown",
   "metadata": {},
   "source": [
    "## Perceptron"
   ]
  },
  {
   "cell_type": "markdown",
   "metadata": {},
   "source": [
    "![perceptron](./assests/perceptron.png)"
   ]
  },
  {
   "cell_type": "markdown",
   "metadata": {},
   "source": [
    "![backpropagation](./assests/backpropagation.png)"
   ]
  },
  {
   "cell_type": "code",
   "execution_count": 163,
   "metadata": {},
   "outputs": [],
   "source": [
    "import numpy as np\n",
    "import pandas as pd"
   ]
  },
  {
   "cell_type": "markdown",
   "metadata": {},
   "source": [
    "## 1. Data preparation"
   ]
  },
  {
   "cell_type": "code",
   "execution_count": 164,
   "metadata": {},
   "outputs": [],
   "source": [
    "def prepare_data(csv):\n",
    "    # Getting data ready\n",
    "    data = pd.read_csv(csv)\n",
    "\n",
    "    # Data normalisation\n",
    "    data['Age'] = data['Age'] / 100\n",
    "\n",
    "    # z-score normalisation\n",
    "    data['Income'] = (data['Income'] - data['Income'].mean()) / data['Income'].std()\n",
    "    data['Previous Purchases'] = (data['Previous Purchases'] - data['Previous Purchases'].mean()) / data['Previous Purchases'].std()\n",
    "\n",
    "    return data"
   ]
  },
  {
   "cell_type": "markdown",
   "metadata": {},
   "source": [
    "## 2. Setting up the perceptron"
   ]
  },
  {
   "cell_type": "code",
   "execution_count": 193,
   "metadata": {},
   "outputs": [],
   "source": [
    "def prepare_matrices(data):\n",
    "    # Prepare input matrix and prediction matrix\n",
    "    X = []\n",
    "    Y = []\n",
    "    for idx, rows in data.iterrows():\n",
    "        x, y = rows.iloc[:-1].to_numpy(), rows.iloc[-1]\n",
    "        X.append(x)\n",
    "        Y.append(y)\n",
    "\n",
    "    X = np.array(X)\n",
    "    Y = np.array(Y).reshape(len(Y), 1)\n",
    "\n",
    "    return X, Y"
   ]
  },
  {
   "cell_type": "code",
   "execution_count": 177,
   "metadata": {},
   "outputs": [],
   "source": [
    "def get_weights_bias(input_size):\n",
    "    # Init weights\n",
    "    W = np.random.rand(input_size, 1)\n",
    "\n",
    "    # init weights\n",
    "    b = np.random.rand(1)\n",
    "\n",
    "    return W, b"
   ]
  },
  {
   "cell_type": "code",
   "execution_count": 194,
   "metadata": {},
   "outputs": [],
   "source": [
    "data = prepare_data('./data/purchase_prediction.csv')\n",
    "X, Y = prepare_matrices(data)\n",
    "W, b = get_weights_bias(X.shape[1])"
   ]
  },
  {
   "cell_type": "markdown",
   "metadata": {},
   "source": [
    "## 3. Training"
   ]
  },
  {
   "cell_type": "code",
   "execution_count": 185,
   "metadata": {},
   "outputs": [],
   "source": [
    "# Sigmoid activation\n",
    "def sigmoid(H):\n",
    "    return 1 / (1 + np.exp(-H))\n",
    "\n",
    "# BCE \n",
    "def cross_entropy(y, y_pred):\n",
    "    y_pred = np.clip(y_pred, 1e-9, 1 - 1e-9)\n",
    "    return -np.sum(y*np.log(y_pred) + (1-y)*np.log(1-y_pred)) / len(y)\n",
    "\n",
    "# BCE grad\n",
    "def cross_entropy_grad(y, y_pred):\n",
    "    return -np.mean((y/y_pred) + ((1-y)/(1-y_pred)))"
   ]
  },
  {
   "cell_type": "code",
   "execution_count": 197,
   "metadata": {},
   "outputs": [
    {
     "name": "stdout",
     "output_type": "stream",
     "text": [
      "Epoch: 10000/100000| Loss: 0.1421263604866834\n",
      "Epoch: 20000/100000| Loss: 0.1198696080947722\n",
      "Epoch: 30000/100000| Loss: 0.10628663464518981\n",
      "Epoch: 40000/100000| Loss: 0.09592404726749353\n",
      "Epoch: 50000/100000| Loss: 0.0874616195295736\n",
      "Epoch: 60000/100000| Loss: 0.08033350482897375\n",
      "Epoch: 70000/100000| Loss: 0.07421970131617642\n",
      "Epoch: 80000/100000| Loss: 0.06891044913608756\n",
      "Epoch: 90000/100000| Loss: 0.06425615724079412\n",
      "Epoch: 100000/100000| Loss: 0.06014453281247149\n"
     ]
    }
   ],
   "source": [
    "epochs = 100000\n",
    "lr = 0.01\n",
    "print_after = 10000\n",
    "\n",
    "for epoch in range(1, epochs+1):\n",
    "    ###\n",
    "    # feed forward\n",
    "    # sum\n",
    "    H = np.matmul(X, W) + b\n",
    "\n",
    "    # activation\n",
    "    A = sigmoid(H)\n",
    "\n",
    "    # calc binary cross entropy loss\n",
    "    loss = cross_entropy(Y, A)\n",
    "\n",
    "    ###\n",
    "    # backpropagate\n",
    "    dz = A - Y\n",
    "    dw = (1/len(Y)) * np.matmul(X.T, dz)\n",
    "    db = (1/len(Y)) * np.sum(dz)\n",
    "\n",
    "    # update weights\n",
    "    W = W - lr*dw\n",
    "    b = b - lr*db\n",
    "\n",
    "    if epoch % print_after == 0:\n",
    "        print(f\"Epoch: {epoch}/{epochs}| Loss: {loss}\")"
   ]
  },
  {
   "cell_type": "markdown",
   "metadata": {},
   "source": [
    "## Testing"
   ]
  },
  {
   "cell_type": "code",
   "execution_count": 198,
   "metadata": {},
   "outputs": [
    {
     "name": "stdout",
     "output_type": "stream",
     "text": [
      "i [0.99667359]\n",
      "1\n",
      "i [0.00058625]\n",
      "0\n"
     ]
    }
   ],
   "source": [
    "x_1 = np.array([0.32, 0.671181, 0.493606])\n",
    "x_2 = np.array([0.48, -0.979264, -0.211545])\n",
    "def predict(input_x):\n",
    "    H = np.matmul(input_x, W)\n",
    "    A = sigmoid(H)\n",
    "    print(A)\n",
    "    if A > 0.5:\n",
    "        print(1)\n",
    "    else:\n",
    "        print(0)\n",
    "\n",
    "predict(x_1) # 1\n",
    "predict(x_2) # 0"
   ]
  },
  {
   "cell_type": "code",
   "execution_count": 171,
   "metadata": {},
   "outputs": [
    {
     "data": {
      "text/html": [
       "<div>\n",
       "<style scoped>\n",
       "    .dataframe tbody tr th:only-of-type {\n",
       "        vertical-align: middle;\n",
       "    }\n",
       "\n",
       "    .dataframe tbody tr th {\n",
       "        vertical-align: top;\n",
       "    }\n",
       "\n",
       "    .dataframe thead th {\n",
       "        text-align: right;\n",
       "    }\n",
       "</style>\n",
       "<table border=\"1\" class=\"dataframe\">\n",
       "  <thead>\n",
       "    <tr style=\"text-align: right;\">\n",
       "      <th></th>\n",
       "      <th>Age</th>\n",
       "      <th>Income</th>\n",
       "      <th>Previous Purchases</th>\n",
       "      <th>Purchased</th>\n",
       "    </tr>\n",
       "  </thead>\n",
       "  <tbody>\n",
       "    <tr>\n",
       "      <th>0</th>\n",
       "      <td>0.25</td>\n",
       "      <td>-0.429116</td>\n",
       "      <td>-0.916696</td>\n",
       "      <td>0</td>\n",
       "    </tr>\n",
       "    <tr>\n",
       "      <th>1</th>\n",
       "      <td>0.32</td>\n",
       "      <td>0.671181</td>\n",
       "      <td>0.493606</td>\n",
       "      <td>1</td>\n",
       "    </tr>\n",
       "    <tr>\n",
       "      <th>2</th>\n",
       "      <td>0.48</td>\n",
       "      <td>-0.979264</td>\n",
       "      <td>-0.211545</td>\n",
       "      <td>0</td>\n",
       "    </tr>\n",
       "    <tr>\n",
       "      <th>3</th>\n",
       "      <td>0.18</td>\n",
       "      <td>-1.254339</td>\n",
       "      <td>-0.916696</td>\n",
       "      <td>0</td>\n",
       "    </tr>\n",
       "    <tr>\n",
       "      <th>4</th>\n",
       "      <td>0.65</td>\n",
       "      <td>1.771478</td>\n",
       "      <td>1.198756</td>\n",
       "      <td>1</td>\n",
       "    </tr>\n",
       "    <tr>\n",
       "      <th>5</th>\n",
       "      <td>0.42</td>\n",
       "      <td>0.396107</td>\n",
       "      <td>-0.916696</td>\n",
       "      <td>0</td>\n",
       "    </tr>\n",
       "    <tr>\n",
       "      <th>6</th>\n",
       "      <td>0.28</td>\n",
       "      <td>-0.539146</td>\n",
       "      <td>-0.211545</td>\n",
       "      <td>1</td>\n",
       "    </tr>\n",
       "    <tr>\n",
       "      <th>7</th>\n",
       "      <td>0.55</td>\n",
       "      <td>1.221330</td>\n",
       "      <td>1.903907</td>\n",
       "      <td>1</td>\n",
       "    </tr>\n",
       "    <tr>\n",
       "      <th>8</th>\n",
       "      <td>0.35</td>\n",
       "      <td>0.011003</td>\n",
       "      <td>0.493606</td>\n",
       "      <td>1</td>\n",
       "    </tr>\n",
       "    <tr>\n",
       "      <th>9</th>\n",
       "      <td>0.22</td>\n",
       "      <td>-0.869235</td>\n",
       "      <td>-0.916696</td>\n",
       "      <td>0</td>\n",
       "    </tr>\n",
       "  </tbody>\n",
       "</table>\n",
       "</div>"
      ],
      "text/plain": [
       "    Age    Income  Previous Purchases  Purchased\n",
       "0  0.25 -0.429116           -0.916696          0\n",
       "1  0.32  0.671181            0.493606          1\n",
       "2  0.48 -0.979264           -0.211545          0\n",
       "3  0.18 -1.254339           -0.916696          0\n",
       "4  0.65  1.771478            1.198756          1\n",
       "5  0.42  0.396107           -0.916696          0\n",
       "6  0.28 -0.539146           -0.211545          1\n",
       "7  0.55  1.221330            1.903907          1\n",
       "8  0.35  0.011003            0.493606          1\n",
       "9  0.22 -0.869235           -0.916696          0"
      ]
     },
     "execution_count": 171,
     "metadata": {},
     "output_type": "execute_result"
    }
   ],
   "source": [
    "data"
   ]
  },
  {
   "cell_type": "code",
   "execution_count": null,
   "metadata": {},
   "outputs": [],
   "source": []
  }
 ],
 "metadata": {
  "kernelspec": {
   "display_name": "ml-library",
   "language": "python",
   "name": "python3"
  },
  "language_info": {
   "codemirror_mode": {
    "name": "ipython",
    "version": 3
   },
   "file_extension": ".py",
   "mimetype": "text/x-python",
   "name": "python",
   "nbconvert_exporter": "python",
   "pygments_lexer": "ipython3",
   "version": "3.9.16"
  }
 },
 "nbformat": 4,
 "nbformat_minor": 2
}
